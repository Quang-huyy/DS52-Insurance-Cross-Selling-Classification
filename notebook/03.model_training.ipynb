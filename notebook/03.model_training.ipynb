{
 "cells": [
  {
   "cell_type": "code",
   "execution_count": 1,
   "id": "81a506d5",
   "metadata": {},
   "outputs": [],
   "source": [
    "import sys\n",
    "sys.path.append('..')\n",
    "\n",
    "from src.loader import InsuranceCrossSellingDataset\n",
    "from src.analyse import InsuranceDataProcessor\n",
    "from src.featureEngineering import FeatureEngineering\n",
    "from src.visualization import Visualization\n",
    "from src.model_runner import ModelRunner\n",
    "from sklearn.model_selection import train_test_split\n"
   ]
  },
  {
   "cell_type": "code",
   "execution_count": 2,
   "id": "67c2b333",
   "metadata": {},
   "outputs": [
    {
     "name": "stdout",
     "output_type": "stream",
     "text": [
      "Téléchargement des données avec l'API Kaggle...\n",
      "Les fichiers de données existent déjà, pas de téléchargement.\n",
      "Données téléchargées et chargées avec succès.\n"
     ]
    }
   ],
   "source": [
    "data_loader = InsuranceCrossSellingDataset(data_dir='../data')\n",
    "train_df, test_df, submission_df = data_loader.load_data()"
   ]
  },
  {
   "cell_type": "code",
   "execution_count": 3,
   "id": "664f6dc2",
   "metadata": {},
   "outputs": [],
   "source": [
    "ft = FeatureEngineering()"
   ]
  },
  {
   "cell_type": "code",
   "execution_count": 4,
   "id": "307e70ef",
   "metadata": {},
   "outputs": [],
   "source": [
    "# Encode Binary and Ordinal features\n",
    "encoded_cols = ['Gender', 'Vehicle_Age', 'Vehicle_Damage']\n",
    "train_df[encoded_cols] = ft.ordinalEncoding(train_df[encoded_cols])\n",
    "\n",
    "#Encode Categorical \n",
    "encoded_cols = ['Region_Code', 'Policy_Sales_Channel', 'Vintage']\n",
    "train_df[encoded_cols] = ft.categoricalEncoding(train_df[encoded_cols])"
   ]
  },
  {
   "cell_type": "code",
   "execution_count": 5,
   "id": "78287df5",
   "metadata": {},
   "outputs": [],
   "source": [
    "X = train_df.drop(columns=['Response','id'])\n",
    "y = train_df['Response']\n",
    "\n",
    "X_train, X_test, y_train, y_test = train_test_split(X,y,test_size=0.2,random_state=42)"
   ]
  },
  {
   "cell_type": "code",
   "execution_count": 6,
   "id": "cdad7fda",
   "metadata": {},
   "outputs": [],
   "source": [
    "X_train_scaled = ft.normalize_feature(X_train, X_train.columns,True)\n",
    "X_test_scaled = ft.normalize_feature(X_test, X_test.columns, False)"
   ]
  },
  {
   "cell_type": "code",
   "execution_count": 7,
   "id": "730b3922",
   "metadata": {},
   "outputs": [
    {
     "name": "stdout",
     "output_type": "stream",
     "text": [
      "\n",
      "Training Logistic Regression...\n",
      "\n",
      "Training Decision Tree...\n",
      "\n",
      "Training Gaussian Naive Bayes...\n",
      "\n",
      "Gaussian Naive Bayes - Evaluating\n",
      "Training Gaussian Naive Bayes... Done\n",
      "\n",
      "Logistic Regression - Evaluating\n",
      "Training Logistic Regression... Done\n",
      "\n",
      "Decision Tree - Evaluating\n",
      "Training Decision Tree... Done\n"
     ]
    }
   ],
   "source": [
    "runner = ModelRunner()\n",
    "model_names, score, report, cm = runner.run(X_train_scaled, X_test_scaled, y_train, y_test)"
   ]
  },
  {
   "cell_type": "code",
   "execution_count": 8,
   "id": "9f7e471a",
   "metadata": {},
   "outputs": [
    {
     "name": "stdout",
     "output_type": "stream",
     "text": [
      "[1198558  819218]\n",
      "[  5563 277621]\n"
     ]
    }
   ],
   "source": [
    "for r in cm:\n",
    "    print(r)"
   ]
  },
  {
   "cell_type": "code",
   "execution_count": 9,
   "id": "e5cc6101",
   "metadata": {},
   "outputs": [],
   "source": [
    "precision = []\n",
    "recall = []\n",
    "for row in range(len(report)):\n",
    "    precision.append(report[row]['weighted avg']['precision'])\n",
    "    recall.append(report[row]['weighted avg']['recall'])"
   ]
  },
  {
   "cell_type": "code",
   "execution_count": 1,
   "id": "ec091890",
   "metadata": {},
   "outputs": [
    {
     "ename": "NameError",
     "evalue": "name 'Visualization' is not defined",
     "output_type": "error",
     "traceback": [
      "\u001b[31m---------------------------------------------------------------------------\u001b[39m",
      "\u001b[31mNameError\u001b[39m                                 Traceback (most recent call last)",
      "\u001b[36mCell\u001b[39m\u001b[36m \u001b[39m\u001b[32mIn[1]\u001b[39m\u001b[32m, line 1\u001b[39m\n\u001b[32m----> \u001b[39m\u001b[32m1\u001b[39m visu = \u001b[43mVisualization\u001b[49m()\n\u001b[32m      2\u001b[39m visu.confusion_matrix_display(model_names,cm)\n\u001b[32m      3\u001b[39m visu.model_performance_plot(model_names, precision, recall)\n",
      "\u001b[31mNameError\u001b[39m: name 'Visualization' is not defined"
     ]
    }
   ],
   "source": [
    "visu = Visualization()\n",
    "visu.confusion_matrix_display(model_names,cm)\n",
    "visu.model_performance_plot(model_names, precision, recall)"
   ]
  }
 ],
 "metadata": {
  "kernelspec": {
   "display_name": "Python 3",
   "language": "python",
   "name": "python3"
  },
  "language_info": {
   "codemirror_mode": {
    "name": "ipython",
    "version": 3
   },
   "file_extension": ".py",
   "mimetype": "text/x-python",
   "name": "python",
   "nbconvert_exporter": "python",
   "pygments_lexer": "ipython3",
   "version": "3.13.3"
  }
 },
 "nbformat": 4,
 "nbformat_minor": 5
}
